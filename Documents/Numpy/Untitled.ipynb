{
 "cells": [
  {
   "cell_type": "code",
   "execution_count": 1,
   "id": "16c418c1-5653-4775-a2fd-7165b3638e63",
   "metadata": {},
   "outputs": [
    {
     "data": {
      "text/plain": [
       "'1.26.4'"
      ]
     },
     "execution_count": 1,
     "metadata": {},
     "output_type": "execute_result"
    }
   ],
   "source": [
    "import numpy \n",
    "numpy.__version__"
   ]
  },
  {
   "cell_type": "code",
   "execution_count": 2,
   "id": "b352a045-d23b-414f-aa0d-233fb2ebd6bd",
   "metadata": {},
   "outputs": [
    {
     "data": {
      "text/plain": [
       "\u001b[1;31mType:\u001b[0m        module\n",
       "\u001b[1;31mString form:\u001b[0m <module 'numpy' from 'C:\\\\Users\\\\Ian\\\\anaconda3\\\\Lib\\\\site-packages\\\\numpy\\\\__init__.py'>\n",
       "\u001b[1;31mFile:\u001b[0m        c:\\users\\ian\\anaconda3\\lib\\site-packages\\numpy\\__init__.py\n",
       "\u001b[1;31mDocstring:\u001b[0m  \n",
       "NumPy\n",
       "=====\n",
       "\n",
       "Provides\n",
       "  1. An array object of arbitrary homogeneous items\n",
       "  2. Fast mathematical operations over arrays\n",
       "  3. Linear Algebra, Fourier Transforms, Random Number Generation\n",
       "\n",
       "How to use the documentation\n",
       "----------------------------\n",
       "Documentation is available in two forms: docstrings provided\n",
       "with the code, and a loose standing reference guide, available from\n",
       "`the NumPy homepage <https://numpy.org>`_.\n",
       "\n",
       "We recommend exploring the docstrings using\n",
       "`IPython <https://ipython.org>`_, an advanced Python shell with\n",
       "TAB-completion and introspection capabilities.  See below for further\n",
       "instructions.\n",
       "\n",
       "The docstring examples assume that `numpy` has been imported as ``np``::\n",
       "\n",
       "  >>> import numpy as np\n",
       "\n",
       "Code snippets are indicated by three greater-than signs::\n",
       "\n",
       "  >>> x = 42\n",
       "  >>> x = x + 1\n",
       "\n",
       "Use the built-in ``help`` function to view a function's docstring::\n",
       "\n",
       "  >>> help(np.sort)\n",
       "  ... # doctest: +SKIP\n",
       "\n",
       "For some objects, ``np.info(obj)`` may provide additional help.  This is\n",
       "particularly true if you see the line \"Help on ufunc object:\" at the top\n",
       "of the help() page.  Ufuncs are implemented in C, not Python, for speed.\n",
       "The native Python help() does not know how to view their help, but our\n",
       "np.info() function does.\n",
       "\n",
       "To search for documents containing a keyword, do::\n",
       "\n",
       "  >>> np.lookfor('keyword')\n",
       "  ... # doctest: +SKIP\n",
       "\n",
       "General-purpose documents like a glossary and help on the basic concepts\n",
       "of numpy are available under the ``doc`` sub-module::\n",
       "\n",
       "  >>> from numpy import doc\n",
       "  >>> help(doc)\n",
       "  ... # doctest: +SKIP\n",
       "\n",
       "Available subpackages\n",
       "---------------------\n",
       "lib\n",
       "    Basic functions used by several sub-packages.\n",
       "random\n",
       "    Core Random Tools\n",
       "linalg\n",
       "    Core Linear Algebra Tools\n",
       "fft\n",
       "    Core FFT routines\n",
       "polynomial\n",
       "    Polynomial tools\n",
       "testing\n",
       "    NumPy testing tools\n",
       "distutils\n",
       "    Enhancements to distutils with support for\n",
       "    Fortran compilers support and more  (for Python <= 3.11).\n",
       "\n",
       "Utilities\n",
       "---------\n",
       "test\n",
       "    Run numpy unittests\n",
       "show_config\n",
       "    Show numpy build configuration\n",
       "matlib\n",
       "    Make everything matrices.\n",
       "__version__\n",
       "    NumPy version string\n",
       "\n",
       "Viewing documentation using IPython\n",
       "-----------------------------------\n",
       "\n",
       "Start IPython and import `numpy` usually under the alias ``np``: `import\n",
       "numpy as np`.  Then, directly past or use the ``%cpaste`` magic to paste\n",
       "examples into the shell.  To see which functions are available in `numpy`,\n",
       "type ``np.<TAB>`` (where ``<TAB>`` refers to the TAB key), or use\n",
       "``np.*cos*?<ENTER>`` (where ``<ENTER>`` refers to the ENTER key) to narrow\n",
       "down the list.  To view the docstring for a function, use\n",
       "``np.cos?<ENTER>`` (to view the docstring) and ``np.cos??<ENTER>`` (to view\n",
       "the source code).\n",
       "\n",
       "Copies vs. in-place operation\n",
       "-----------------------------\n",
       "Most of the functions in `numpy` return a copy of the array argument\n",
       "(e.g., `np.sort`).  In-place versions of these functions are often\n",
       "available as array methods, i.e. ``x = np.array([1,2,3]); x.sort()``.\n",
       "Exceptions to this rule are documented."
      ]
     },
     "metadata": {},
     "output_type": "display_data"
    }
   ],
   "source": [
    "import numpy as np\n",
    "# Display Numpy built-in Documentation\n",
    "np?"
   ]
  },
  {
   "cell_type": "markdown",
   "id": "fbe69720-cd7e-4a5e-b37a-d68eadd09963",
   "metadata": {},
   "source": [
    "## Fixed-Type Array in Python\n",
    "\n",
    "Python offers several differnt options for storing data in efficient, fixed type data buffers. The built in array module(availabble in python 3.3) can be used can be used to create dense arrays of a uniform type."
   ]
  },
  {
   "cell_type": "code",
   "execution_count": 52,
   "id": "864acdce-80fd-476d-a6d5-072c590e62a8",
   "metadata": {},
   "outputs": [
    {
     "data": {
      "text/plain": [
       "array('i', [0, 1, 2, 3, 4, 5, 6, 7, 8, 9])"
      ]
     },
     "execution_count": 52,
     "metadata": {},
     "output_type": "execute_result"
    }
   ],
   "source": [
    "import array\n",
    "L = list(range(10))\n",
    "A = array.array(\"i\", L) # Here i is a type code indicating that the contents are integers.\n",
    "A"
   ]
  },
  {
   "cell_type": "markdown",
   "id": "6817e12a-3b40-40a8-8487-fa869e03aa55",
   "metadata": {},
   "source": [
    "Much more useful is the **ndarray** object of the NumPy Package. While Python's array object provides efficient storage of array-based data, NumPy adds to this efficient operations to that data."
   ]
  },
  {
   "cell_type": "code",
   "execution_count": 4,
   "id": "85b2a221-557e-4f79-a495-b48e9960e6c3",
   "metadata": {},
   "outputs": [
    {
     "data": {
      "text/plain": [
       "array([1, 2, 3, 4, 5])"
      ]
     },
     "execution_count": 4,
     "metadata": {},
     "output_type": "execute_result"
    }
   ],
   "source": [
    "# Importing numpy\n",
    "import numpy as np\n",
    "\n",
    "# Creating arrays from Python's list\n",
    "np.array([1, 2, 3, 4, 5])"
   ]
  },
  {
   "cell_type": "markdown",
   "id": "89c4a5cb-7e2d-4ea5-8312-94efccd941a1",
   "metadata": {},
   "source": [
    "Unlike Pyhon's lists, NumPy is constrained to arrays that all contain the same type. If types is not the same, NumPy will upcast if possible."
   ]
  },
  {
   "cell_type": "code",
   "execution_count": 5,
   "id": "4a9892ac-1ee1-44eb-bd55-675dacc76f27",
   "metadata": {},
   "outputs": [
    {
     "data": {
      "text/plain": [
       "array([3.14, 4.  , 6.  , 8.  ])"
      ]
     },
     "execution_count": 5,
     "metadata": {},
     "output_type": "execute_result"
    }
   ],
   "source": [
    "np.array([3.14, 4, 6, 8]) # Here integers are upcast to floating points."
   ]
  },
  {
   "cell_type": "markdown",
   "id": "184eca42-e855-4b02-83f6-9310c6b4fa32",
   "metadata": {},
   "source": [
    "If I explicity want to set the data type of the resulting array, I can use the **dtype** keyword."
   ]
  },
  {
   "cell_type": "code",
   "execution_count": 6,
   "id": "be26d74a-d2bc-44ba-8809-6311d0651a48",
   "metadata": {},
   "outputs": [
    {
     "data": {
      "text/plain": [
       "array([1., 2., 3., 4.], dtype=float32)"
      ]
     },
     "execution_count": 6,
     "metadata": {},
     "output_type": "execute_result"
    }
   ],
   "source": [
    "np.array([1, 2, 3, 4], dtype=\"float32\")"
   ]
  },
  {
   "cell_type": "markdown",
   "id": "70ed6510-68b5-4d0d-9c9c-0c727df1bbb2",
   "metadata": {},
   "source": [
    "Finally unlike Python's list NumPy arrays can explicity be multidimensional."
   ]
  },
  {
   "cell_type": "code",
   "execution_count": 7,
   "id": "6e249f86-a94b-4c96-96bb-def068cc71ee",
   "metadata": {},
   "outputs": [
    {
     "data": {
      "text/plain": [
       "array([[2, 3, 4],\n",
       "       [4, 5, 6],\n",
       "       [6, 7, 8]])"
      ]
     },
     "execution_count": 7,
     "metadata": {},
     "output_type": "execute_result"
    }
   ],
   "source": [
    "# Initializing a multidimensional array\n",
    "# nested list results in multidimensional array\n",
    "np.array([range(i, i+3) for i in [2, 4, 6]])  # Inner list is treated as the rows of the resulting 2 dimensional array."
   ]
  },
  {
   "cell_type": "markdown",
   "id": "98382856-919d-4114-9ea3-6d35d5fda3dc",
   "metadata": {},
   "source": [
    "## Creating Arrays from Scratch.\n",
    "\n",
    "Especially for larger arrays, it is more efficient to create arrays from scratch using routines built into NumPy."
   ]
  },
  {
   "cell_type": "markdown",
   "id": "5589a4f1-ea79-42e6-a943-61e1881a88a7",
   "metadata": {},
   "source": [
    "**Examples**"
   ]
  },
  {
   "cell_type": "code",
   "execution_count": 8,
   "id": "eff83478-c72b-4ed5-b8e5-db07a5aa12d3",
   "metadata": {},
   "outputs": [
    {
     "data": {
      "text/plain": [
       "array([0, 0, 0, 0, 0, 0, 0, 0, 0, 0])"
      ]
     },
     "execution_count": 8,
     "metadata": {},
     "output_type": "execute_result"
    }
   ],
   "source": [
    "# Creating a length-10 array filled with zeros\n",
    "np.zeros(10, dtype=\"int\")\n"
   ]
  },
  {
   "cell_type": "code",
   "execution_count": 9,
   "id": "0b2083e4-9556-4e7d-bc5e-7844d2227ac5",
   "metadata": {},
   "outputs": [
    {
     "data": {
      "text/plain": [
       "array([[1., 1., 1., 1., 1.],\n",
       "       [1., 1., 1., 1., 1.],\n",
       "       [1., 1., 1., 1., 1.]])"
      ]
     },
     "execution_count": 9,
     "metadata": {},
     "output_type": "execute_result"
    }
   ],
   "source": [
    "# Craeting a 3 by 5 array filled with ones That are floats\n",
    "np.ones((3, 5))"
   ]
  },
  {
   "cell_type": "code",
   "execution_count": 10,
   "id": "9dfcb9d6-0327-431d-83d2-2d0f2c1674b6",
   "metadata": {},
   "outputs": [
    {
     "data": {
      "text/plain": [
       "array([[3.14, 3.14, 3.14, 3.14, 3.14],\n",
       "       [3.14, 3.14, 3.14, 3.14, 3.14],\n",
       "       [3.14, 3.14, 3.14, 3.14, 3.14]])"
      ]
     },
     "execution_count": 10,
     "metadata": {},
     "output_type": "execute_result"
    }
   ],
   "source": [
    "# Craeting a 3 by 5 array filled with 3.14\n",
    "np.full((3, 5), 3.14)"
   ]
  },
  {
   "cell_type": "code",
   "execution_count": 11,
   "id": "7f21910d-befa-4803-989d-1a05c3c5a07e",
   "metadata": {},
   "outputs": [
    {
     "data": {
      "text/plain": [
       "array([[2, 2, 2, 2, 2],\n",
       "       [2, 2, 2, 2, 2],\n",
       "       [2, 2, 2, 2, 2]])"
      ]
     },
     "execution_count": 11,
     "metadata": {},
     "output_type": "execute_result"
    }
   ],
   "source": [
    "# Creating a 3 by 5 filled with 2\n",
    "np.full((3, 5), 2) "
   ]
  },
  {
   "cell_type": "code",
   "execution_count": 12,
   "id": "6d1a60b5-fbc1-4cfe-854e-e2e94e03b3e3",
   "metadata": {},
   "outputs": [
    {
     "data": {
      "text/plain": [
       "array([ 0,  2,  4,  6,  8, 10, 12, 14, 16, 18])"
      ]
     },
     "execution_count": 12,
     "metadata": {},
     "output_type": "execute_result"
    }
   ],
   "source": [
    "# Creating an array filled with linear sequence\n",
    "# Starting at 0 ending at 20 , step = 2\n",
    "# This is similar to the built in range function\n",
    "np.arange(0, 20, 2)"
   ]
  },
  {
   "cell_type": "code",
   "execution_count": 13,
   "id": "df940a12-6c77-482e-a834-55be7f2f3008",
   "metadata": {},
   "outputs": [
    {
     "data": {
      "text/plain": [
       "array([0.  , 0.25, 0.5 , 0.75, 1.  ])"
      ]
     },
     "execution_count": 13,
     "metadata": {},
     "output_type": "execute_result"
    }
   ],
   "source": [
    "# Creating an array evenly spaced beween 0 and 1 containing 5 values\n",
    "np.linspace(0, 1, 5)"
   ]
  },
  {
   "cell_type": "code",
   "execution_count": 14,
   "id": "cae1db70-7bed-4a53-9026-fde395c39e19",
   "metadata": {},
   "outputs": [
    {
     "data": {
      "text/plain": [
       "array([[0.64660812, 0.12648511, 0.78307571],\n",
       "       [0.14803251, 0.1705058 , 0.53212717],\n",
       "       [0.04636199, 0.97707052, 0.17047089]])"
      ]
     },
     "execution_count": 14,
     "metadata": {},
     "output_type": "execute_result"
    }
   ],
   "source": [
    "# Craeting a 3 by 3 array of uniformly distributed random values between 0 and 1\n",
    "np.random.random((3, 3))"
   ]
  },
  {
   "cell_type": "code",
   "execution_count": 15,
   "id": "3a340c38-66ed-4a3b-a894-eb92dbb53f84",
   "metadata": {},
   "outputs": [
    {
     "data": {
      "text/plain": [
       "array([[-1.30621698,  0.4470806 ,  0.67552619],\n",
       "       [-0.84046681,  1.45027975,  0.61121152],\n",
       "       [-0.6999306 ,  0.79851688,  2.45326598]])"
      ]
     },
     "execution_count": 15,
     "metadata": {},
     "output_type": "execute_result"
    }
   ],
   "source": [
    "# Craete a 3 by 3 array of normally distributed random values with mean 0 and std 1\n",
    "np.random.normal(0, 1, (3, 3))\n"
   ]
  },
  {
   "cell_type": "code",
   "execution_count": 16,
   "id": "eede9fa4-a754-4721-9c62-5c83961e3c36",
   "metadata": {},
   "outputs": [
    {
     "data": {
      "text/plain": [
       "array([[5, 9, 0],\n",
       "       [2, 4, 7],\n",
       "       [6, 0, 3]])"
      ]
     },
     "execution_count": 16,
     "metadata": {},
     "output_type": "execute_result"
    }
   ],
   "source": [
    "# Craete a 3 by 3 array of random integers of values in the interval (0, 10)\n",
    "np.random.randint(0, 10, (3, 3))"
   ]
  },
  {
   "cell_type": "code",
   "execution_count": 17,
   "id": "6e9c8bd6-5420-4a8b-88f7-7e76a371f27c",
   "metadata": {},
   "outputs": [
    {
     "data": {
      "text/plain": [
       "array([[1., 0., 0.],\n",
       "       [0., 1., 0.],\n",
       "       [0., 0., 1.]])"
      ]
     },
     "execution_count": 17,
     "metadata": {},
     "output_type": "execute_result"
    }
   ],
   "source": [
    "# Craete a 3 by 3 identity matrix\n",
    "np.eye(3, 3)"
   ]
  },
  {
   "cell_type": "code",
   "execution_count": 18,
   "id": "23342009-d570-4d6f-8490-3f857e5889ea",
   "metadata": {},
   "outputs": [
    {
     "data": {
      "text/plain": [
       "array([1., 1., 1.])"
      ]
     },
     "execution_count": 18,
     "metadata": {},
     "output_type": "execute_result"
    }
   ],
   "source": [
    "# Create an uninitialized array of three integers\n",
    "# The values will be whatever happens to already exist at that\n",
    "# memory location\n",
    "np.empty(3)"
   ]
  },
  {
   "cell_type": "markdown",
   "id": "391d56f2-5298-468f-8659-3fa0f9e0aad5",
   "metadata": {},
   "source": [
    "## NumPy Standard Data Types"
   ]
  },
  {
   "cell_type": "code",
   "execution_count": 19,
   "id": "629229eb-d650-4b86-9f9e-e6260c0df56c",
   "metadata": {},
   "outputs": [],
   "source": [
    "## See NumP's Documentation"
   ]
  },
  {
   "cell_type": "markdown",
   "id": "b46aeded-08ac-479c-b51d-32b7cb84ec07",
   "metadata": {},
   "source": [
    "## The Basics of NumPy Arrays"
   ]
  },
  {
   "cell_type": "markdown",
   "id": "596a3565-65dd-4443-a177-f6ada8c0f667",
   "metadata": {},
   "source": [
    "Data manipulation in Python is nearly synonymous with NumPy array manipulation:\n",
    "even newer tools like Pandas (Chapter 3) are built around the NumPy array. This section will present several examples using NumPy array manipulation to access data\n",
    "and subarrays, and to split, reshape, and join the arrays. While the types of operations\n",
    "shown here may seem a bit dry and pedantic, they comprise the building blocks of\n",
    "many other examples used throughout the book. Get to know them well!\n",
    "We’ll cover a few categories of basic array manipulations here:\n",
    "\n",
    "**Attributes of arrays**\n",
    "Determining the size, shape, memory consumption, and data types of arrays\n",
    "\n",
    "**Indexing of arrays**\n",
    "Getting and setting the value of individual array elements\n",
    "\n",
    "**Slicing of arrays**\n",
    "Getting and setting smaller subarrays within a larger array\n",
    "\n",
    "**Reshaping of arrays**\n",
    "Changing the shape of a given array\n",
    "\n",
    "**Joining and splitting of arrays**\n",
    "Combining multiple arrays into one, and splitting one array into many"
   ]
  },
  {
   "cell_type": "markdown",
   "id": "08da3758-e5f5-466d-9fe3-78e764439cd4",
   "metadata": {},
   "source": [
    "## NumPy Array Attributes"
   ]
  },
  {
   "cell_type": "markdown",
   "id": "70684ce5-8e0e-484f-83f5-b6f96bb3762e",
   "metadata": {},
   "source": [
    "First let’s discuss some useful array attributes. We’ll start by defining three random\n",
    "arrays: a one-dimensional, two-dimensional, and three-dimensional array. We’ll use\n",
    "NumPy’s random number generator, which we will seed with a set value in order to\n",
    "ensure that the same random arrays are generated each time this code is run."
   ]
  },
  {
   "cell_type": "code",
   "execution_count": 20,
   "id": "f943239b-6284-48f7-8b43-f99c360aec30",
   "metadata": {},
   "outputs": [
    {
     "data": {
      "text/plain": [
       "array([2, 2, 6, 1, 3, 9])"
      ]
     },
     "execution_count": 20,
     "metadata": {},
     "output_type": "execute_result"
    }
   ],
   "source": [
    "import numpy as np\n",
    "np.random.seed(123) # Seed for reproducibility\n",
    "\n",
    "x1 = np.random.randint(10, size=6) # One dimensional array\n",
    "x2  = np.random.randint(10, size=(3, 4)) # Two dimensional array\n",
    "x3 = np.random.randint(10, size=(3, 4, 5)) # Three dimensional array\n",
    "x1\n",
    "                       "
   ]
  },
  {
   "cell_type": "code",
   "execution_count": 21,
   "id": "d25554f7-c78a-4910-b547-a7712a0f6e5a",
   "metadata": {},
   "outputs": [
    {
     "data": {
      "text/plain": [
       "array([[6, 1, 0, 1],\n",
       "       [9, 0, 0, 9],\n",
       "       [3, 4, 0, 0]])"
      ]
     },
     "execution_count": 21,
     "metadata": {},
     "output_type": "execute_result"
    }
   ],
   "source": [
    "x2"
   ]
  },
  {
   "cell_type": "markdown",
   "id": "5d32158a-c476-4e42-a130-9580a9e96214",
   "metadata": {},
   "source": [
    "Each array has attributes **ndim** (the number of dimensions), **shape** (the size of each\n",
    "dimension), and **size** (the total size of the array):"
   ]
  },
  {
   "cell_type": "code",
   "execution_count": 23,
   "id": "5aaf20cc-544e-41bc-b324-f71f6b569eda",
   "metadata": {},
   "outputs": [
    {
     "name": "stdout",
     "output_type": "stream",
     "text": [
      "x3 ndim: 3\n",
      "x3 shape: (3, 4, 5)\n",
      "x3 size: 60\n"
     ]
    }
   ],
   "source": [
    "print(\"x3 ndim:\", x3.ndim)\n",
    "print(\"x3 shape:\", x3.shape)\n",
    "print(\"x3 size:\", x3.size)"
   ]
  },
  {
   "cell_type": "code",
   "execution_count": 25,
   "id": "2be8583b-d663-4600-84bf-0c2ae7fbc377",
   "metadata": {},
   "outputs": [
    {
     "name": "stdout",
     "output_type": "stream",
     "text": [
      "x2 ndim: 2\n",
      "x2 shape: (3, 4)\n",
      "x2.size: 12\n"
     ]
    }
   ],
   "source": [
    "print(\"x2 ndim:\", x2.ndim)\n",
    "print(\"x2 shape:\", x2.shape)\n",
    "print(\"x2.size:\", x2.size)"
   ]
  },
  {
   "cell_type": "markdown",
   "id": "9e92c10a-192a-4a9f-ade8-bf0b90d416ab",
   "metadata": {},
   "source": [
    "Another useful attribute is the dtype which gives me the type of the array."
   ]
  },
  {
   "cell_type": "code",
   "execution_count": 27,
   "id": "beba8e19-fd2b-4ae8-a021-b61ff5a8c85e",
   "metadata": {},
   "outputs": [
    {
     "name": "stdout",
     "output_type": "stream",
     "text": [
      "type x3: int32\n"
     ]
    }
   ],
   "source": [
    "# Get the type of array x3\n",
    "print(\"type x3:\", x3.dtype)"
   ]
  },
  {
   "cell_type": "markdown",
   "id": "7ba1fdbe-55e9-4166-af68-bd48c5c1ef1d",
   "metadata": {},
   "source": [
    "Other attributes include **itemsize**, which lists the size **(in bytes)** of each array element, and **nbytes**, which lists the total size **(in bytes)** of the array."
   ]
  },
  {
   "cell_type": "code",
   "execution_count": 29,
   "id": "93a02445-0526-4d50-8e60-f374b57b3768",
   "metadata": {},
   "outputs": [
    {
     "name": "stdout",
     "output_type": "stream",
     "text": [
      "item size: 4 bytes\n",
      "nbytes: 240 bytes\n"
     ]
    }
   ],
   "source": [
    "print(\"item size:\", x3.itemsize, \"bytes\")\n",
    "print(\"nbytes:\", x3.nbytes, \"bytes\")"
   ]
  },
  {
   "cell_type": "markdown",
   "id": "8a5317a9-8dca-4239-803e-f8606d42030c",
   "metadata": {},
   "source": [
    "In general we expect nbytes to be itemsize multiplied by the number of items."
   ]
  },
  {
   "cell_type": "markdown",
   "id": "5513bbe5-f902-4a88-9d4e-c2e32be76d7c",
   "metadata": {},
   "source": [
    "## Array Indexing Accesing single Elements"
   ]
  },
  {
   "cell_type": "markdown",
   "id": "c1eb804f-8540-4dde-b7ab-5684d033d7d6",
   "metadata": {},
   "source": [
    "If you are familiar with Python’s standard list indexing, indexing in NumPy will feel\n",
    "quite familiar. In a one-dimensional array, you can access the ith value (counting from\n",
    "zero) by specifying the desired index in square brackets, just as with Python lists:"
   ]
  },
  {
   "cell_type": "code",
   "execution_count": 31,
   "id": "ac67fd16-71f8-4991-b347-6041e7c5bea4",
   "metadata": {},
   "outputs": [
    {
     "data": {
      "text/plain": [
       "array([2, 2, 6, 1, 3, 9])"
      ]
     },
     "execution_count": 31,
     "metadata": {},
     "output_type": "execute_result"
    }
   ],
   "source": [
    "x1"
   ]
  },
  {
   "cell_type": "code",
   "execution_count": 32,
   "id": "384a1e1a-fc3c-43b0-bd9b-05f5783274ef",
   "metadata": {},
   "outputs": [
    {
     "data": {
      "text/plain": [
       "2"
      ]
     },
     "execution_count": 32,
     "metadata": {},
     "output_type": "execute_result"
    }
   ],
   "source": [
    "# Getting the first item\n",
    "x1[0]"
   ]
  },
  {
   "cell_type": "code",
   "execution_count": 33,
   "id": "dac7b272-3742-4b78-a6cf-69b155bea77f",
   "metadata": {},
   "outputs": [
    {
     "data": {
      "text/plain": [
       "1"
      ]
     },
     "execution_count": 33,
     "metadata": {},
     "output_type": "execute_result"
    }
   ],
   "source": [
    "# Getting the 4TH item\n",
    "x1[3]"
   ]
  },
  {
   "cell_type": "markdown",
   "id": "601fa5f1-27d6-41f2-80bd-d151b3f5f5a7",
   "metadata": {},
   "source": [
    "To index from the end use negative indices."
   ]
  },
  {
   "cell_type": "code",
   "execution_count": 34,
   "id": "abbae56e-c171-4b82-8589-0d1c8aa93753",
   "metadata": {},
   "outputs": [
    {
     "data": {
      "text/plain": [
       "9"
      ]
     },
     "execution_count": 34,
     "metadata": {},
     "output_type": "execute_result"
    }
   ],
   "source": [
    "# Getting the last item\n",
    "x1[-1]"
   ]
  },
  {
   "cell_type": "code",
   "execution_count": 35,
   "id": "e65c8019-413a-459b-a9f1-dddf391058ed",
   "metadata": {},
   "outputs": [
    {
     "data": {
      "text/plain": [
       "1"
      ]
     },
     "execution_count": 35,
     "metadata": {},
     "output_type": "execute_result"
    }
   ],
   "source": [
    "# Third last item\n",
    "x1[-3]"
   ]
  },
  {
   "cell_type": "markdown",
   "id": "5b6c2b4a-779d-4c5f-992a-8f44af9b62b8",
   "metadata": {},
   "source": [
    "In Multidimensional array I access items using a comma seperated tuple of indices."
   ]
  },
  {
   "cell_type": "code",
   "execution_count": 36,
   "id": "f0d1de06-f57c-4acb-9c29-8e26d27ed8ac",
   "metadata": {},
   "outputs": [
    {
     "data": {
      "text/plain": [
       "array([[6, 1, 0, 1],\n",
       "       [9, 0, 0, 9],\n",
       "       [3, 4, 0, 0]])"
      ]
     },
     "execution_count": 36,
     "metadata": {},
     "output_type": "execute_result"
    }
   ],
   "source": [
    "x2"
   ]
  },
  {
   "cell_type": "code",
   "execution_count": 37,
   "id": "ea776754-e025-4a41-8631-2c8ed6220419",
   "metadata": {},
   "outputs": [
    {
     "data": {
      "text/plain": [
       "6"
      ]
     },
     "execution_count": 37,
     "metadata": {},
     "output_type": "execute_result"
    }
   ],
   "source": [
    "# acessing row 0 column 0\n",
    "x2[0, 0]"
   ]
  },
  {
   "cell_type": "code",
   "execution_count": 39,
   "id": "bf89cf4a-2478-4292-b032-36e230284574",
   "metadata": {},
   "outputs": [
    {
     "data": {
      "text/plain": [
       "0"
      ]
     },
     "execution_count": 39,
     "metadata": {},
     "output_type": "execute_result"
    }
   ],
   "source": [
    "# row 2 column 3\n",
    "x2[(1, 2)]"
   ]
  },
  {
   "cell_type": "code",
   "execution_count": 41,
   "id": "eece8228-bcd6-4ce0-8f62-e0d13f6a1e62",
   "metadata": {},
   "outputs": [
    {
     "data": {
      "text/plain": [
       "9"
      ]
     },
     "execution_count": 41,
     "metadata": {},
     "output_type": "execute_result"
    }
   ],
   "source": [
    "# row 2 last item\n",
    "x2[(1, -1)]"
   ]
  },
  {
   "cell_type": "markdown",
   "id": "cb59daa2-946a-4edf-ae32-12206b767632",
   "metadata": {},
   "source": [
    "I can also modify valus using any of the index notation above."
   ]
  },
  {
   "cell_type": "code",
   "execution_count": 43,
   "id": "964b56f1-0682-4fde-b49f-aaa705e9d5fc",
   "metadata": {},
   "outputs": [
    {
     "data": {
      "text/plain": [
       "array([[6, 1, 0, 1],\n",
       "       [9, 0, 0, 5],\n",
       "       [3, 4, 0, 0]])"
      ]
     },
     "execution_count": 43,
     "metadata": {},
     "output_type": "execute_result"
    }
   ],
   "source": [
    "x2[(1, -1)] = 5\n",
    "x2"
   ]
  },
  {
   "cell_type": "markdown",
   "id": "a8e48eb5-c9c2-43ce-a942-39d79f3dc32d",
   "metadata": {},
   "source": [
    "Keep in mind that, unlike Python lists, NumPy arrays have a fixed type. This means,\n",
    "for example, that if you attempt to insert a floating-point value to an integer array, the\n",
    "value will be silently truncated. Don’t be caught unaware by this behavior!"
   ]
  },
  {
   "cell_type": "code",
   "execution_count": 46,
   "id": "3e21b8ff-4422-4e3b-bdbd-f635d0175f90",
   "metadata": {},
   "outputs": [
    {
     "data": {
      "text/plain": [
       "array([[6, 1, 0, 1],\n",
       "       [9, 0, 0, 5],\n",
       "       [3, 4, 0, 0]])"
      ]
     },
     "execution_count": 46,
     "metadata": {},
     "output_type": "execute_result"
    }
   ],
   "source": [
    "x2[(1, -1)] = 5.2 # This will be truncated\n",
    "x2"
   ]
  },
  {
   "cell_type": "markdown",
   "id": "13247d68-ed04-4469-95b4-e8b035df46c3",
   "metadata": {},
   "source": [
    "## Array Slicing: Accessing Subarrays."
   ]
  },
  {
   "cell_type": "markdown",
   "id": "3baa25c8-a099-4259-b4d8-049ff1b46521",
   "metadata": {},
   "source": [
    "Just as we can use square brackets to access individual array elements, we can also use\n",
    "them to access subarrays with the slice notation, marked by the colon (:) character.\n",
    "The NumPy slicing syntax follows that of the standard Python list; to access a slice of\n",
    "an array x, use this:"
   ]
  },
  {
   "cell_type": "markdown",
   "id": "1d95d7a8-9ef8-4a3b-ba31-6b669b9b0dc0",
   "metadata": {},
   "source": [
    "**x[start:stop:step]**"
   ]
  },
  {
   "cell_type": "markdown",
   "id": "e8b9a1da-7171-4b4e-9878-9c9bdb22bd27",
   "metadata": {},
   "source": [
    "If any of these are unspecified, they default to the values **start=0**, **stop=size of\n",
    "dimension**, **step=1**. We’ll take a look at accessing subarrays in one dimension and in\n",
    "multiple dimensions."
   ]
  },
  {
   "cell_type": "code",
   "execution_count": 48,
   "id": "60daa91d-29f3-497f-839b-cad573fd80d0",
   "metadata": {},
   "outputs": [
    {
     "data": {
      "text/plain": [
       "array([0, 1, 2, 3, 4, 5, 6, 7, 8, 9])"
      ]
     },
     "execution_count": 48,
     "metadata": {},
     "output_type": "execute_result"
    }
   ],
   "source": [
    "x = np.arange(10)\n",
    "x"
   ]
  },
  {
   "cell_type": "code",
   "execution_count": 50,
   "id": "ca130458-6ab6-49c0-901c-ea383ab2d2cb",
   "metadata": {},
   "outputs": [
    {
     "data": {
      "text/plain": [
       "array([0, 1, 2, 3, 4])"
      ]
     },
     "execution_count": 50,
     "metadata": {},
     "output_type": "execute_result"
    }
   ],
   "source": [
    "x[:5] # Getting the first 5 elements"
   ]
  },
  {
   "cell_type": "code",
   "execution_count": 55,
   "id": "a7eb33e8-f486-41c8-8c27-b8968291ee8e",
   "metadata": {},
   "outputs": [
    {
     "data": {
      "text/plain": [
       "array([4, 5, 6])"
      ]
     },
     "execution_count": 55,
     "metadata": {},
     "output_type": "execute_result"
    }
   ],
   "source": [
    "x[4:7] # from the 4th to the 6th element"
   ]
  },
  {
   "cell_type": "code",
   "execution_count": 58,
   "id": "2ab23c9d-6d13-45fc-b863-7f3c657173de",
   "metadata": {},
   "outputs": [
    {
     "data": {
      "text/plain": [
       "10"
      ]
     },
     "execution_count": 58,
     "metadata": {},
     "output_type": "execute_result"
    }
   ],
   "source": [
    "# Number of dimension\n",
    "x.size"
   ]
  },
  {
   "cell_type": "code",
   "execution_count": 59,
   "id": "f06d4226-ac89-4f0a-b62f-43a5c710c103",
   "metadata": {},
   "outputs": [
    {
     "data": {
      "text/plain": [
       "array([0, 2, 4, 6, 8])"
      ]
     },
     "execution_count": 59,
     "metadata": {},
     "output_type": "execute_result"
    }
   ],
   "source": [
    "x[::2] # start=0, stop=size of dimension(10), step=2"
   ]
  },
  {
   "cell_type": "code",
   "execution_count": 61,
   "id": "4888635c-92b6-4c8d-862d-959b7066d94e",
   "metadata": {},
   "outputs": [
    {
     "data": {
      "text/plain": [
       "array([1, 3, 5, 7, 9])"
      ]
     },
     "execution_count": 61,
     "metadata": {},
     "output_type": "execute_result"
    }
   ],
   "source": [
    "x[1::2] # start=1, stop=size of dimension(10), step=2)"
   ]
  },
  {
   "cell_type": "markdown",
   "id": "924353d7-cfac-411f-be5e-52a115ce5621",
   "metadata": {},
   "source": [
    "A potentially confusing case is when the step value is negative. In this case, the\n",
    "defaults for start and stop are swapped. This becomes a convenient way to reverse\n",
    "an array:"
   ]
  },
  {
   "cell_type": "code",
   "execution_count": 64,
   "id": "2ad08329-62c3-492f-bb15-ff7d2b282b46",
   "metadata": {},
   "outputs": [
    {
     "data": {
      "text/plain": [
       "array([9, 8, 7, 6, 5, 4, 3, 2, 1, 0])"
      ]
     },
     "execution_count": 64,
     "metadata": {},
     "output_type": "execute_result"
    }
   ],
   "source": [
    "x[::-1] # all elements are reversed"
   ]
  },
  {
   "cell_type": "code",
   "execution_count": 67,
   "id": "ef942c8f-2bf2-4adf-a095-c9c06bfba968",
   "metadata": {},
   "outputs": [
    {
     "data": {
      "text/plain": [
       "array([0, 1, 2, 3, 4, 5, 6, 7, 8, 9])"
      ]
     },
     "execution_count": 67,
     "metadata": {},
     "output_type": "execute_result"
    }
   ],
   "source": [
    "x"
   ]
  },
  {
   "cell_type": "code",
   "execution_count": 73,
   "id": "70a0d8d7-93ba-41e5-8f38-7af24e8366e3",
   "metadata": {},
   "outputs": [
    {
     "data": {
      "text/plain": [
       "array([5, 3, 1])"
      ]
     },
     "execution_count": 73,
     "metadata": {},
     "output_type": "execute_result"
    }
   ],
   "source": [
    "x[5::-2] # reversed every other from index 5"
   ]
  },
  {
   "cell_type": "markdown",
   "id": "151d377f-28f6-4856-a0ba-2d11093a385b",
   "metadata": {},
   "source": [
    "## Multidimensionals Subarrays"
   ]
  },
  {
   "cell_type": "markdown",
   "id": "3892f19d-c6f4-41b8-bc32-60b41a3202b1",
   "metadata": {},
   "source": [
    "Multidimensional slices work in the same way, with multiple slices seperated by commas. For example:"
   ]
  },
  {
   "cell_type": "code",
   "execution_count": 74,
   "id": "8b783cf4-0be9-4c65-8a38-e5a16505976a",
   "metadata": {},
   "outputs": [
    {
     "data": {
      "text/plain": [
       "array([[6, 1, 0, 1],\n",
       "       [9, 0, 0, 5],\n",
       "       [3, 4, 0, 0]])"
      ]
     },
     "execution_count": 74,
     "metadata": {},
     "output_type": "execute_result"
    }
   ],
   "source": [
    "x2"
   ]
  },
  {
   "cell_type": "code",
   "execution_count": 75,
   "id": "94047712-2a34-4b55-af0a-5b237f546ad6",
   "metadata": {},
   "outputs": [
    {
     "data": {
      "text/plain": [
       "array([[6, 1, 0],\n",
       "       [9, 0, 0]])"
      ]
     },
     "execution_count": 75,
     "metadata": {},
     "output_type": "execute_result"
    }
   ],
   "source": [
    "x2[:2, :3] # two rows, 3 columns"
   ]
  },
  {
   "cell_type": "code",
   "execution_count": 78,
   "id": "377c5523-87aa-4fb3-aba8-2ba00450f088",
   "metadata": {},
   "outputs": [
    {
     "data": {
      "text/plain": [
       "array([[6, 0],\n",
       "       [9, 0],\n",
       "       [3, 0]])"
      ]
     },
     "execution_count": 78,
     "metadata": {},
     "output_type": "execute_result"
    }
   ],
   "source": [
    "x2[:3, ::2] # 3 rows and every other columns , steps=2"
   ]
  },
  {
   "cell_type": "markdown",
   "id": "596d835d-2411-4e07-92ff-cb3db5b22465",
   "metadata": {},
   "source": [
    "Finally, subarray dimensions can even be reversed together:"
   ]
  },
  {
   "cell_type": "code",
   "execution_count": 79,
   "id": "80bea6ec-0354-425f-9b49-727f0833703a",
   "metadata": {},
   "outputs": [
    {
     "data": {
      "text/plain": [
       "array([[0, 0, 4, 3],\n",
       "       [5, 0, 0, 9],\n",
       "       [1, 0, 1, 6]])"
      ]
     },
     "execution_count": 79,
     "metadata": {},
     "output_type": "execute_result"
    }
   ],
   "source": [
    "x2[::-1, ::-1]"
   ]
  },
  {
   "cell_type": "code",
   "execution_count": null,
   "id": "07bee84b-4b33-4ed3-b780-de991f844c5a",
   "metadata": {},
   "outputs": [],
   "source": []
  }
 ],
 "metadata": {
  "kernelspec": {
   "display_name": "Python 3 (ipykernel)",
   "language": "python",
   "name": "python3"
  },
  "language_info": {
   "codemirror_mode": {
    "name": "ipython",
    "version": 3
   },
   "file_extension": ".py",
   "mimetype": "text/x-python",
   "name": "python",
   "nbconvert_exporter": "python",
   "pygments_lexer": "ipython3",
   "version": "3.11.7"
  }
 },
 "nbformat": 4,
 "nbformat_minor": 5
}
