{
 "cells": [
  {
   "cell_type": "markdown",
   "metadata": {},
   "source": [
    "## Object Oriented Programming in Python"
   ]
  },
  {
   "cell_type": "markdown",
   "metadata": {},
   "source": [
    "### Python Classes"
   ]
  },
  {
   "cell_type": "markdown",
   "metadata": {},
   "source": [
    "- A class is a python object with several characteristics\n",
    "- You can call a class as it were a function and this call return a new instance of the class\n",
    "- A class has arbitary name attributes that can be bound, unbound and referenced\n",
    "- The class attributes can be descriptors (including functions) or normal data objects\n",
    "- class attributes bond to functions are also called methods\n",
    "- A method can have special python-defined meaning(they're are named with two leading and trailing underscores)\n",
    "- A class can inherit from other classes, meaning it delegates to other classes the look-up of attributes that are not found in the class itself."
   ]
  },
  {
   "cell_type": "markdown",
   "metadata": {},
   "source": [
    "### Python Classes in Deatail (I)"
   ]
  },
  {
   "cell_type": "markdown",
   "metadata": {},
   "source": [
    "- All classes are derived from object (new-style classes)."
   ]
  },
  {
   "cell_type": "code",
   "execution_count": 3,
   "metadata": {},
   "outputs": [],
   "source": [
    "class Dog(object):\n",
    "    pass"
   ]
  },
  {
   "cell_type": "markdown",
   "metadata": {},
   "source": [
    "- Python objects have data and function  attributes (methods)"
   ]
  },
  {
   "cell_type": "code",
   "execution_count": 4,
   "metadata": {},
   "outputs": [
    {
     "name": "stdout",
     "output_type": "stream",
     "text": [
      "Wuff!\n"
     ]
    }
   ],
   "source": [
    "class Dog(object):\n",
    "\n",
    "    def bark(self):\n",
    "        print(\"Wuff!\")\n",
    "\n",
    "snowy = Dog()\n",
    "snowy.bark()  # first argument self is bond to this Dog instance\n",
    "snowy.a = 1   # added attribute to snowy\n"
   ]
  },
  {
   "cell_type": "markdown",
   "metadata": {},
   "source": [
    "### Pythion Classes in detail (II)"
   ]
  },
  {
   "cell_type": "code",
   "execution_count": 10,
   "metadata": {},
   "outputs": [],
   "source": [
    "class Dataset(object):\n",
    "\n",
    "    def __init__(self):\n",
    "        self.data = None\n",
    "\n",
    "    def store_data(self, raw_data):\n",
    "        # Process the data\n",
    "        processed_data = sum(raw_data)\n",
    "        self.data = processed_data\n",
    "        \n"
   ]
  },
  {
   "cell_type": "code",
   "execution_count": 13,
   "metadata": {},
   "outputs": [
    {
     "name": "stdout",
     "output_type": "stream",
     "text": [
      "15\n"
     ]
    }
   ],
   "source": [
    "# Create an instance of the Dataset class\n",
    "dataset = Dataset()\n",
    "\n",
    "# Store some raw data\n",
    "raw_data = [1,2,3,4,5] # some raw data\n",
    "dataset.store_data(raw_data)\n",
    "\n",
    "# Access the processed data\n",
    "\n",
    "processed_data = dataset.data\n",
    "print(processed_data)\n"
   ]
  },
  {
   "cell_type": "markdown",
   "metadata": {},
   "source": [
    "- Class attributes are shared across all instances."
   ]
  },
  {
   "cell_type": "code",
   "execution_count": 16,
   "metadata": {},
   "outputs": [
    {
     "name": "stdout",
     "output_type": "stream",
     "text": [
      "Perry\n",
      "Ornithorhynchus anatinus\n"
     ]
    }
   ],
   "source": [
    "class Mammal:\n",
    "    def __init__(self, name):\n",
    "        self.name = name\n",
    "\n",
    "class Platypus(Mammal):\n",
    "    latin_name = \"Ornithorhynchus anatinus\"\n",
    "\n",
    "# Create an instance of the Platypus class\n",
    "perry = Platypus(\"Perry\")\n",
    "print(perry.name)  # Output: Perry\n",
    "print(perry.latin_name)  # Output: Ornithorhynchus anatinus\n"
   ]
  },
  {
   "cell_type": "markdown",
   "metadata": {},
   "source": [
    "### Python Classes in Detail (III)"
   ]
  },
  {
   "cell_type": "markdown",
   "metadata": {},
   "source": [
    "- Use super to call a method from a superclass."
   ]
  },
  {
   "cell_type": "code",
   "execution_count": 17,
   "metadata": {},
   "outputs": [],
   "source": [
    "class Dataset(object):\n",
    "    def __init__(self, data=None):\n",
    "        self.data = data\n",
    "\n",
    "class MRIDataset(Dataset):\n",
    "    def __init__(self, data=None, parameters=None):\n",
    "# here has the same effect as calling\n",
    "# Dataset.__init__(self)\n",
    "        super(MRIDataset, self).__init__(data)\n",
    "        self.parameters = parameters\n",
    "mri_data = MRIDataset(data=[1,2,3])"
   ]
  },
  {
   "cell_type": "markdown",
   "metadata": {},
   "source": [
    "# Python OOPs Concepts"
   ]
  },
  {
   "cell_type": "markdown",
   "metadata": {},
   "source": [
    "Object Oriented Programming is a fundamental concept in Python, empowering developers to build modular, maintainable and scalable applications.\n",
    "By understanding the core OOP principles -- classes, objects, inheritance, encapsulation, polymorphism, and abstraction --programmers can levarage the full potential of Python's OOP capabilities to design elegant and efficient solutions to complex problems. "
   ]
  },
  {
   "cell_type": "markdown",
   "metadata": {},
   "source": [
    "### What is Object-Oriented Programming in Python?"
   ]
  },
  {
   "cell_type": "markdown",
   "metadata": {},
   "source": [
    "In Python object-oriented Programming (OOPs) is a programming paradigm that uses objects and classes in programming. It aims to implement real-world entities like inheritance, polymorphisms, encapsulation, etc in programming. The main concept of object-oriented Programming (OOPs) or oops concepts in Python is to bind the data and the functions that works together as a single unit so that no other part of the code can access this data."
   ]
  },
  {
   "cell_type": "markdown",
   "metadata": {},
   "source": [
    "## OOPs Concepts in Python\n",
    "- Class in Python\n",
    "- Objects in python\n",
    "- Polymorphism in Python\n",
    "- Encappsulation in Python\n",
    "- Inheritance in Python\n",
    "- Data Abstartion in Python"
   ]
  },
  {
   "cell_type": "markdown",
   "metadata": {},
   "source": [
    "### Python Class"
   ]
  },
  {
   "cell_type": "markdown",
   "metadata": {},
   "source": [
    "A class is a collection of objects. A class contains blueprints or the prototype from which the objects are being created. It is a logical entiity that contains some attributes and methods.\n",
    "To understand the need for creating a class let us consider an example.Let's say you want to tract the number of dogs that have different attributes like breed and age. If a list is used, the first element could be the dog's breed while the second element will represent it's age. Let's suppose there are 100 different dogs, then how will you know which element is supposed to be which? What if you wanted to add other properties to these dogs? This lacks orginization and it's the exact need for classes.\n"
   ]
  },
  {
   "cell_type": "markdown",
   "metadata": {},
   "source": [
    "### Some points on Python \n",
    "\n",
    "- Classes are created by keyword class\n",
    "- Attributes are the variables that belong to a class.\n",
    "- Attributes ara always public and can be accessed using the dot (.) operator. Eg :\n",
    "   Myclass.Myattribute"
   ]
  },
  {
   "cell_type": "markdown",
   "metadata": {},
   "source": [
    "### Class Definition Syntax:"
   ]
  },
  {
   "cell_type": "markdown",
   "metadata": {},
   "source": [
    "class ClassName:\n",
    "\n",
    "    # Statement -1\n",
    "-\n",
    "-\n",
    "-\n",
    "\n",
    "    # statement -N\n",
    "\n",
    "\n",
    "\n"
   ]
  },
  {
   "cell_type": "markdown",
   "metadata": {},
   "source": [
    "### Creating an Empty Class in Python"
   ]
  },
  {
   "cell_type": "markdown",
   "metadata": {},
   "source": [
    "In the example below we have created a class named Dog using the class Keyword."
   ]
  },
  {
   "cell_type": "code",
   "execution_count": 18,
   "metadata": {},
   "outputs": [],
   "source": [
    "class Dog:\n",
    "    pass"
   ]
  },
  {
   "cell_type": "markdown",
   "metadata": {},
   "source": [
    "### Python Objects\n",
    "In Object oriented programming Python, The object is an entity that has a state and behavior associated with it. It may be any real-world object like a mouse, keyboard, chair, pen, etc. Integers, strings, floating-point numbers even arrays, and dictionaries and all objects. More specifically any single integer or string is an object. The number 12 is an object, the string \"hello World\" is an object, a list is an object that can hold other objects."
   ]
  },
  {
   "cell_type": "markdown",
   "metadata": {},
   "source": [
    "### An object consist of:"
   ]
  },
  {
   "cell_type": "markdown",
   "metadata": {},
   "source": [
    "- ### State:\n",
    "It is represented by the attributes of an object. It also reflects the properties of an object.\n",
    "\n",
    "- ### Behavior:\n",
    "It is represented by the methods of an object. It also reflects the response of an object to other objects.\n",
    "\n",
    "- ### Identity:\n",
    "It gives a unique name to an object and enables one object to interact with other objects.\n"
   ]
  },
  {
   "cell_type": "markdown",
   "metadata": {},
   "source": [
    "To understand the state, behavior, and identity let us take the example of the class dog (explained above). \n",
    "\n",
    "- The identity can be considered as the name of the dog.\n",
    "- State or Attributes can be considered as the breed, age, or color of the dog.\n",
    "- The behavior can be considered as to whether the dog is eating or sleeping."
   ]
  },
  {
   "cell_type": "markdown",
   "metadata": {},
   "source": [
    "### Creating an object.\n"
   ]
  },
  {
   "cell_type": "markdown",
   "metadata": {},
   "source": [
    "This will craete an object named obj of the class Dog defined above. Before diving deep in into objects and classes let us understand some basic keywords that will be used while working with objects and classes."
   ]
  },
  {
   "cell_type": "code",
   "execution_count": 19,
   "metadata": {},
   "outputs": [],
   "source": [
    "obj = Dog()"
   ]
  },
  {
   "cell_type": "markdown",
   "metadata": {},
   "source": [
    "### The Python Self"
   ]
  },
  {
   "cell_type": "markdown",
   "metadata": {},
   "source": [
    "1. Class methods must have an extra first parameter in the method definition. We do not give a value to this parameter when we call the method. Python provides it\n",
    "\n",
    "2. If we have a method that takes no argument, then we still have to one argument.\n",
    "\n",
    "3. This is similar to this pointer in C++ and this reference in Java."
   ]
  },
  {
   "cell_type": "markdown",
   "metadata": {},
   "source": [
    "Self represents the instance of the class. By using the “self”  we can access the attributes and methods of the class in Python. It binds the attributes with the given arguments. The reason you need to use self. is because Python does not use the @ syntax to refer to instance attributes. Python decided to do methods in a way that makes the instance to which the method belongs be passed automatically, but not received automatically: the first parameter of methods is the instance the method is called on."
   ]
  },
  {
   "cell_type": "markdown",
   "metadata": {},
   "source": [
    "### What is the use of self in Python?"
   ]
  },
  {
   "cell_type": "markdown",
   "metadata": {},
   "source": [
    "When working with classes in Python, the term “self” refers to the instance of the class that is currently being used. It is customary to use “self” as the first parameter in instance methods of a class. Whenever you call a method of an object created from a class, the object is automatically passed as the first argument using the “self” parameter. This enables you to modify the object’s properties and execute tasks unique to that particular instance."
   ]
  },
  {
   "cell_type": "code",
   "execution_count": 20,
   "metadata": {},
   "outputs": [
    {
     "name": "stdout",
     "output_type": "stream",
     "text": [
      "17\n"
     ]
    }
   ],
   "source": [
    "class Mynumber():\n",
    "    def __init__(self, value):\n",
    "        self.value = value\n",
    "\n",
    "    def print_value(self):\n",
    "        print(self.value)\n",
    "\n",
    "obj1 = Mynumber(17)\n",
    "obj1.print_value()\n"
   ]
  },
  {
   "cell_type": "markdown",
   "metadata": {},
   "source": [
    "### Python Class self Constructor"
   ]
  },
  {
   "cell_type": "markdown",
   "metadata": {},
   "source": [
    "When working with classes, it’s important to understand that in Python, a class constructor is a special method named __init__ that gets called when you create an instance (object) of a class. This method is used to initialize the attributes of the object. Keep in mind that the self parameter in the constructor refers to the instance being created and allows you to access and set its attributes. By following these guidelines, you can create powerful and efficient classes in Python."
   ]
  },
  {
   "cell_type": "code",
   "execution_count": 21,
   "metadata": {},
   "outputs": [
    {
     "name": "stdout",
     "output_type": "stream",
     "text": [
      "Maths\n",
      "Science\n"
     ]
    }
   ],
   "source": [
    "class Subject:\n",
    "    def __init__(self, attr1, attr2):\n",
    "        self.attr1 = attr1\n",
    "        self.attr2 = attr2\n",
    "\n",
    "obj = Subject(\"Maths\", \"Science\")\n",
    "print(obj.attr1)\n",
    "print(obj.attr2)"
   ]
  },
  {
   "cell_type": "markdown",
   "metadata": {},
   "source": [
    "### Is self in Python a Keyword?"
   ]
  },
  {
   "cell_type": "markdown",
   "metadata": {},
   "source": [
    "No, ‘ self ‘ is not a keyword in Python. Self is just a parameter name used in instance methods to refer to the instance itself.\n",
    "\n",
    "In a more clear way you can say that SELF has the following Characteristic-"
   ]
  },
  {
   "cell_type": "markdown",
   "metadata": {},
   "source": [
    "### Self: Pointer to Current Object"
   ]
  },
  {
   "cell_type": "markdown",
   "metadata": {},
   "source": [
    "The self is always pointing to the Current Object. When you create an instance of a class, you’re essentially creating an object with its own set of attributes and methods."
   ]
  },
  {
   "cell_type": "code",
   "execution_count": 22,
   "metadata": {},
   "outputs": [
    {
     "name": "stdout",
     "output_type": "stream",
     "text": [
      "Adress of self =  2755306386000\n",
      "Adress of object =  2755306386000\n"
     ]
    }
   ],
   "source": [
    "class Check:\n",
    "    def __init__(self):\n",
    "        print(\"Adress of self = \", id(self))\n",
    "\n",
    "obj = Check()\n",
    "print(\"Adress of object = \", id(obj))"
   ]
  },
  {
   "cell_type": "markdown",
   "metadata": {},
   "source": [
    "### Example: Creating Class with Attributes and Methods"
   ]
  },
  {
   "cell_type": "markdown",
   "metadata": {},
   "source": [
    "This code defines a Python class car representing cars with attributes ‘model’ and ‘color’. The __init__ constructor initializes these attributes for each instance. The show method displays model and color, while direct attribute access and method calls demonstrate instance-specific data retrieval."
   ]
  },
  {
   "cell_type": "code",
   "execution_count": 25,
   "metadata": {},
   "outputs": [
    {
     "name": "stdout",
     "output_type": "stream",
     "text": [
      "Model is  Audi a4\n",
      "color is  blue\n",
      "Model is  Ferrari 488\n",
      "color is  green\n",
      "Model of Audi is Audi a4\n",
      "Color of Ferrari is green\n"
     ]
    }
   ],
   "source": [
    "class Car():\n",
    "    # init method or constructor \n",
    "    def __init__(self, model, color):\n",
    "        self.model = model\n",
    "        self.color = color\n",
    "\n",
    "\n",
    "    def show(self):\n",
    "        print(\"Model is \", self.model)\n",
    "        print(\"color is \", self.color)\n",
    "\n",
    "# Both objects have different self which contain the same attribute.\n",
    "audi = Car(\"Audi a4\", \"blue\")\n",
    "ferrari = Car(\"Ferrari 488\", \"green\")\n",
    "\n",
    "audi.show()     # same output as car.show(audi)\n",
    "ferrari.show()      # same output as car.show(ferrari)\n",
    "\n",
    "print(\"Model of Audi is\", audi.model)\n",
    "print(\"Color of Ferrari is\", ferrari.color)"
   ]
  },
  {
   "cell_type": "markdown",
   "metadata": {},
   "source": [
    "### Self in Constructors and Methods"
   ]
  },
  {
   "cell_type": "markdown",
   "metadata": {},
   "source": [
    "Self is the first argument to be passed in Constructor and Instance Method.Self must be provided as a First parameter to the Instance method and constructor. If you don’t provide it, it will cause an error"
   ]
  },
  {
   "cell_type": "code",
   "execution_count": 27,
   "metadata": {},
   "outputs": [
    {
     "ename": "TypeError",
     "evalue": "__init__() takes 0 positional arguments but 1 was given",
     "output_type": "error",
     "traceback": [
      "\u001b[1;31m---------------------------------------------------------------------------\u001b[0m",
      "\u001b[1;31mTypeError\u001b[0m                                 Traceback (most recent call last)",
      "\u001b[1;32m<ipython-input-27-5d10790abb1e>\u001b[0m in \u001b[0;36m<module>\u001b[1;34m\u001b[0m\n\u001b[0;32m      3\u001b[0m         \u001b[0mprint\u001b[0m\u001b[1;33m(\u001b[0m\u001b[1;34m\"This is the Construtor\"\u001b[0m\u001b[1;33m)\u001b[0m\u001b[1;33m\u001b[0m\u001b[1;33m\u001b[0m\u001b[0m\n\u001b[0;32m      4\u001b[0m \u001b[1;33m\u001b[0m\u001b[0m\n\u001b[1;32m----> 5\u001b[1;33m \u001b[0mobject\u001b[0m \u001b[1;33m=\u001b[0m \u001b[0mCheck\u001b[0m\u001b[1;33m(\u001b[0m\u001b[1;33m)\u001b[0m\u001b[1;33m\u001b[0m\u001b[1;33m\u001b[0m\u001b[0m\n\u001b[0m\u001b[0;32m      6\u001b[0m \u001b[0mprint\u001b[0m\u001b[1;33m(\u001b[0m\u001b[1;34m\"Worked fine\"\u001b[0m\u001b[1;33m)\u001b[0m\u001b[1;33m\u001b[0m\u001b[1;33m\u001b[0m\u001b[0m\n",
      "\u001b[1;31mTypeError\u001b[0m: __init__() takes 0 positional arguments but 1 was given"
     ]
    }
   ],
   "source": [
    "class Check:\n",
    "    def __init__():\n",
    "        print(\"This is the Construtor\")\n",
    "\n",
    "object = Check()\n",
    "print(\"Worked fine\")"
   ]
  },
  {
   "cell_type": "markdown",
   "metadata": {},
   "source": [
    "### Self: Convention, Not Keyword"
   ]
  },
  {
   "cell_type": "markdown",
   "metadata": {},
   "source": [
    "Self is a convention and not a Python keyword. Self is a parameter in Instance Method and the user can use another parameter name in place of it. But it is advisable to use self because it increases the readability of code, and it is also a good programming practice."
   ]
  },
  {
   "cell_type": "code",
   "execution_count": 28,
   "metadata": {},
   "outputs": [
    {
     "name": "stdout",
     "output_type": "stream",
     "text": [
      "we have used anotherparameter name in place of self\n"
     ]
    }
   ],
   "source": [
    "class this_is_class():\n",
    "    def __init__(in_place_of_self):\n",
    "        print(\"we have used another\"\n",
    "              \"parameter name in place of self\")\n",
    "        \n",
    "object = this_is_class()"
   ]
  },
  {
   "cell_type": "markdown",
   "metadata": {},
   "source": [
    "## The Python __init__ Method "
   ]
  },
  {
   "cell_type": "markdown",
   "metadata": {},
   "source": [
    "The __init__ method is similar to constructors in C++ and Java. It is run as soon as an object of a class is instantiated. The method is useful to do any initialization you want to do with your object. Now let us define a class and create some objects using the self and __init__ method."
   ]
  },
  {
   "cell_type": "markdown",
   "metadata": {},
   "source": [
    "### Creating a class and object with class and instance attributes"
   ]
  },
  {
   "cell_type": "code",
   "execution_count": 4,
   "metadata": {},
   "outputs": [
    {
     "name": "stdout",
     "output_type": "stream",
     "text": [
      "Rodger is a mammal\n",
      "Tommy is also a mammal\n",
      "My name is Rodger\n",
      "My name isTommy\n"
     ]
    }
   ],
   "source": [
    "class Dog:\n",
    "    attr1 = \"mammal\"\n",
    "\n",
    "    # instance attribute\n",
    "    def __init__(self, name):\n",
    "        self.name = name\n",
    "\n",
    "# Driver code\n",
    "# Object instantiation\n",
    "Rodger = Dog(\"Rodger\")\n",
    "Tommy = Dog(\"Tommy\")\n",
    "\n",
    "#Accessing class attruibutes\n",
    "print(\"Rodger is a {}\".format(Rodger.__class__.attr1))\n",
    "print(\"Tommy is also a {}\". format(Tommy.__class__.attr1))\n",
    "\n",
    "# Accessing instance attributes\n",
    "print(f\"My name is {Rodger.name}\")\n",
    "print(f\"My name is{Tommy.name}\")"
   ]
  },
  {
   "cell_type": "markdown",
   "metadata": {},
   "source": [
    "### Creating Classes and objects with methods"
   ]
  },
  {
   "cell_type": "markdown",
   "metadata": {},
   "source": [
    "Here, The Dog class is defined with two attributes:\n",
    "\n",
    "attr1 is a class attribute set to the value “mammal“. Class attributes are shared by all instances of the class.\n",
    "__init__ is a special method (constructor) that initializes an instance of the Dog class. It takes two parameters: self (referring to the instance being created) and name (representing the name of the dog). The name parameter is used to assign a name attribute to each instance of Dog.\n",
    "The speak method is defined within the Dog class. This method prints a string that includes the name of the dog instance.\n",
    "The driver code starts by creating two instances of the Dog class: Rodger and Tommy. The __init__ method is called for each instance to initialize their name attributes with the provided names. The speak method is called in both instances (Rodger.speak() and Tommy.speak()), causing each dog to print a statement with its name.\n",
    "\n",
    "\n"
   ]
  },
  {
   "cell_type": "code",
   "execution_count": 6,
   "metadata": {},
   "outputs": [
    {
     "name": "stdout",
     "output_type": "stream",
     "text": [
      "my name is Rodger\n",
      "my name is Tommy\n"
     ]
    }
   ],
   "source": [
    "class Dog:\n",
    "\n",
    "    # class attribute\n",
    "    attr1 = \"mammal\"\n",
    "\n",
    "    # instance attribute\n",
    "    def __init__(self, name):\n",
    "        self.name = name\n",
    "\n",
    "    def speak(self):\n",
    "        print(f\"my name is {self.name}\")\n",
    "\n",
    "# Driver Code \n",
    "# Object instatiation\n",
    "\n",
    "Rodger = Dog(\"Rodger\")\n",
    "Tommy = Dog(\"Tommy\")\n",
    "\n",
    "# Accessing class methods\n",
    "Rodger.speak()\n",
    "Tommy.speak()"
   ]
  },
  {
   "cell_type": "markdown",
   "metadata": {},
   "source": []
  }
 ],
 "metadata": {
  "kernelspec": {
   "display_name": "learn-env",
   "language": "python",
   "name": "python3"
  },
  "language_info": {
   "codemirror_mode": {
    "name": "ipython",
    "version": 3
   },
   "file_extension": ".py",
   "mimetype": "text/x-python",
   "name": "python",
   "nbconvert_exporter": "python",
   "pygments_lexer": "ipython3",
   "version": "3.8.5"
  }
 },
 "nbformat": 4,
 "nbformat_minor": 2
}
